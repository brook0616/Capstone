{
 "cells": [
  {
   "cell_type": "markdown",
   "metadata": {},
   "source": [
    "## Intrusion Detection Packet Classification by type of attacks\n",
    "### Capston B"
   ]
  },
  {
   "cell_type": "code",
   "execution_count": 4,
   "metadata": {},
   "outputs": [],
   "source": [
    "%config IPCompleter.greedy=True\n",
    "import pandas as pd\n",
    "import seaborn as sns\n",
    "import numpy as np\n",
    "import tensorflow as tf \n",
    "import matplotlib as matplot\n",
    "import matplotlib.pyplot as plt\n",
    "%matplotlib inline\n",
    "\n",
    "from IPython.core.interactiveshell import InteractiveShell\n",
    "InteractiveShell.ast_node_interactivity = \"all\"\n",
    "\n",
    "import warnings\n",
    "warnings.filterwarnings(\"ignore\")\n",
    "\n",
    "from keras.models import Model, load_model\n",
    "from keras.layers import *\n",
    "from keras.callbacks import ModelCheckpoint, TensorBoard\n",
    "from keras import regularizers\n",
    "\n",
    "from sklearn.metrics import (confusion_matrix, precision_recall_curve, auc,\n",
    "                             roc_curve, recall_score, classification_report, f1_score,\n",
    "                             precision_recall_fscore_support)\n",
    "from sklearn.tree import DecisionTreeClassifier\n",
    "from sklearn.ensemble import RandomForestClassifier, ExtraTreesClassifier, VotingClassifier\n",
    "from sklearn.model_selection import train_test_split\n",
    "from sklearn.preprocessing import LabelEncoder,normalize"
   ]
  },
  {
   "cell_type": "markdown",
   "metadata": {},
   "source": [
    "Preprocessing -Transformation and Scaling "
   ]
  },
  {
   "cell_type": "code",
   "execution_count": 5,
   "metadata": {},
   "outputs": [],
   "source": [
    "train = pd.read_csv('G:/SMU Data Science/SMU Courses/DS 6120 Capstone A/UNSW-NB15 Data Set/UNSW_NB15_training-set.csv')\n",
    "test = pd.read_csv('G:/SMU Data Science/SMU Courses/DS 6120 Capstone A/UNSW-NB15 Data Set/UNSW_NB15_testing-set.csv')\n",
    "list_events = pd.read_csv(\"G:/SMU Data Science/SMU Courses/DS 6120 Capstone A/UNSW-NB15 Data Set/UNSW-NB15_LIST_EVENTS.csv\")\n",
    "features = pd.read_csv(\"G:/SMU Data Science/SMU Courses/DS 6120 Capstone A/UNSW-NB15 Data Set/NUSW-NB15_features.csv\",encoding='latin1')\n",
    "combined_data = pd.concat([train, test]).drop(['id'],axis=1)"
   ]
  },
  {
   "cell_type": "markdown",
   "metadata": {},
   "source": [
    "Function to encode string features"
   ]
  },
  {
   "cell_type": "code",
   "execution_count": 6,
   "metadata": {},
   "outputs": [
    {
     "name": "stdout",
     "output_type": "stream",
     "text": [
      "attack cat: {'Fuzzers', 'Worms', 'Shellcode', 'Reconnaissance', 'Normal', 'Analysis', 'Generic', 'Exploits', 'DoS', 'Backdoor'}\n",
      "\n",
      "Describing attack_type: \n",
      "min 0\n",
      "max 9\n",
      "mode 0    6\n",
      "dtype: int32\n",
      "mode 0.3609225646458884 %\n",
      "looks like 6 is 'normal', but its not that common\n"
     ]
    }
   ],
   "source": [
    "le1 = LabelEncoder()\n",
    "le = LabelEncoder()\n",
    "\n",
    "vector = combined_data['attack_cat']\n",
    "\n",
    "print(\"attack cat:\", set(list(vector))) # use print to make it print on single line \n",
    "\n",
    "combined_data['attack_cat'] = le1.fit_transform(vector)\n",
    "combined_data['proto'] = le.fit_transform(combined_data['proto'])\n",
    "combined_data['service'] = le.fit_transform(combined_data['service'])\n",
    "combined_data['state'] = le.fit_transform(combined_data['state'])\n",
    "\n",
    "vector = combined_data['attack_cat']\n",
    "print('\\nDescribing attack_type: ')\n",
    "print(\"min\", vector.min())\n",
    "print(\"max\", vector.max())\n",
    "print(\"mode\",vector.mode())\n",
    "print(\"mode\", len(np.where(vector.values==6)[0])/len(vector),\"%\")\n",
    "print(\"looks like 6 is 'normal', but its not that common\")"
   ]
  },
  {
   "cell_type": "code",
   "execution_count": 7,
   "metadata": {},
   "outputs": [
    {
     "data": {
      "text/plain": [
       "array(['Analysis', 'Backdoor', 'DoS', 'Exploits', 'Fuzzers', 'Generic',\n",
       "       'Normal', 'Reconnaissance', 'Shellcode', 'Worms'], dtype=object)"
      ]
     },
     "execution_count": 7,
     "metadata": {},
     "output_type": "execute_result"
    }
   ],
   "source": [
    "le1.inverse_transform([0,1,2,3,4,5,6,7,8,9,])"
   ]
  },
  {
   "cell_type": "markdown",
   "metadata": {},
   "source": [
    "Dropping thr features of Low Standard deviation and Low corr"
   ]
  },
  {
   "cell_type": "code",
   "execution_count": 10,
   "metadata": {},
   "outputs": [
    {
     "data": {
      "text/plain": [
       "(257673, 44)"
      ]
     },
     "execution_count": 10,
     "metadata": {},
     "output_type": "execute_result"
    },
    {
     "data": {
      "text/plain": [
       "(257673, 35)"
      ]
     },
     "execution_count": 10,
     "metadata": {},
     "output_type": "execute_result"
    }
   ],
   "source": [
    "lowSTD = list(combined_data.std().to_frame().nsmallest(6,columns=0).index)\n",
    "lowCORR = list(combined_data.corr().abs().sort_values('attack_cat')['attack_cat'].nsmallest(3).index) # .where(lambda x: x < 0.005).dropna()\n",
    "drop = set( lowCORR + lowSTD)\n",
    "#drop = {'ackdat', 'ct_ftp_cmd', 'djit', 'is_ftp_login', 'is_sm_ips_ports', 'response_body_len', 'sjit', 'synack', 'tcprtt'}\n",
    "combined_data.shape\n",
    "combined_data_reduced=combined_data.drop(drop,axis=1)\n",
    "combined_data_reduced.shape"
   ]
  },
  {
   "cell_type": "code",
   "execution_count": 11,
   "metadata": {},
   "outputs": [
    {
     "data": {
      "text/plain": [
       "['ackdat', 'synack', 'tcprtt', 'is_ftp_login', 'ct_ftp_cmd', 'is_sm_ips_ports']"
      ]
     },
     "execution_count": 11,
     "metadata": {},
     "output_type": "execute_result"
    }
   ],
   "source": [
    "lowSTD "
   ]
  },
  {
   "cell_type": "code",
   "execution_count": 12,
   "metadata": {},
   "outputs": [
    {
     "data": {
      "text/plain": [
       "['sjit', 'response_body_len', 'djit']"
      ]
     },
     "execution_count": 12,
     "metadata": {},
     "output_type": "execute_result"
    }
   ],
   "source": [
    "lowCORR"
   ]
  },
  {
   "cell_type": "code",
   "execution_count": 13,
   "metadata": {},
   "outputs": [],
   "source": [
    "transform = list(combined_data_reduced.columns.values[4:])\n",
    "transform.append('dur')\n",
    "transform.remove('attack_cat')\n",
    "# transform min-max norm \n",
    "combined_data_reduced[transform] = combined_data_reduced[transform].apply(lambda x: (x - x.min()) / (x.max() - x.min()))"
   ]
  },
  {
   "cell_type": "markdown",
   "metadata": {},
   "source": [
    "Combined data reducd transformation"
   ]
  },
  {
   "cell_type": "code",
   "execution_count": 14,
   "metadata": {},
   "outputs": [
    {
     "data": {
      "text/html": [
       "<div>\n",
       "<style scoped>\n",
       "    .dataframe tbody tr th:only-of-type {\n",
       "        vertical-align: middle;\n",
       "    }\n",
       "\n",
       "    .dataframe tbody tr th {\n",
       "        vertical-align: top;\n",
       "    }\n",
       "\n",
       "    .dataframe thead th {\n",
       "        text-align: right;\n",
       "    }\n",
       "</style>\n",
       "<table border=\"1\" class=\"dataframe\">\n",
       "  <thead>\n",
       "    <tr style=\"text-align: right;\">\n",
       "      <th></th>\n",
       "      <th>spkts</th>\n",
       "      <th>dpkts</th>\n",
       "      <th>sbytes</th>\n",
       "      <th>dbytes</th>\n",
       "      <th>rate</th>\n",
       "      <th>sttl</th>\n",
       "      <th>dttl</th>\n",
       "      <th>sload</th>\n",
       "      <th>dload</th>\n",
       "      <th>sloss</th>\n",
       "      <th>...</th>\n",
       "      <th>ct_state_ttl</th>\n",
       "      <th>ct_dst_ltm</th>\n",
       "      <th>ct_src_dport_ltm</th>\n",
       "      <th>ct_dst_sport_ltm</th>\n",
       "      <th>ct_dst_src_ltm</th>\n",
       "      <th>ct_flw_http_mthd</th>\n",
       "      <th>ct_src_ltm</th>\n",
       "      <th>ct_srv_dst</th>\n",
       "      <th>label</th>\n",
       "      <th>dur</th>\n",
       "    </tr>\n",
       "  </thead>\n",
       "  <tbody>\n",
       "    <tr>\n",
       "      <th>0</th>\n",
       "      <td>0.000470</td>\n",
       "      <td>0.000363</td>\n",
       "      <td>0.000016</td>\n",
       "      <td>0.000012</td>\n",
       "      <td>0.000074</td>\n",
       "      <td>0.988235</td>\n",
       "      <td>1.000000</td>\n",
       "      <td>2.364553e-06</td>\n",
       "      <td>0.000379</td>\n",
       "      <td>0.000000</td>\n",
       "      <td>...</td>\n",
       "      <td>0.000000</td>\n",
       "      <td>0.000000</td>\n",
       "      <td>0.000000</td>\n",
       "      <td>0.0</td>\n",
       "      <td>0.000000</td>\n",
       "      <td>0.0</td>\n",
       "      <td>0.000000</td>\n",
       "      <td>0.000000</td>\n",
       "      <td>0.0</td>\n",
       "      <td>2.024634e-03</td>\n",
       "    </tr>\n",
       "    <tr>\n",
       "      <th>1</th>\n",
       "      <td>0.001221</td>\n",
       "      <td>0.003449</td>\n",
       "      <td>0.000049</td>\n",
       "      <td>0.002866</td>\n",
       "      <td>0.000078</td>\n",
       "      <td>0.243137</td>\n",
       "      <td>0.992126</td>\n",
       "      <td>1.401989e-06</td>\n",
       "      <td>0.022458</td>\n",
       "      <td>0.000376</td>\n",
       "      <td>...</td>\n",
       "      <td>0.166667</td>\n",
       "      <td>0.000000</td>\n",
       "      <td>0.000000</td>\n",
       "      <td>0.0</td>\n",
       "      <td>0.015625</td>\n",
       "      <td>0.0</td>\n",
       "      <td>0.000000</td>\n",
       "      <td>0.081967</td>\n",
       "      <td>0.0</td>\n",
       "      <td>1.083170e-02</td>\n",
       "    </tr>\n",
       "    <tr>\n",
       "      <th>2</th>\n",
       "      <td>0.000658</td>\n",
       "      <td>0.001452</td>\n",
       "      <td>0.000024</td>\n",
       "      <td>0.000900</td>\n",
       "      <td>0.000014</td>\n",
       "      <td>0.243137</td>\n",
       "      <td>0.992126</td>\n",
       "      <td>2.625704e-07</td>\n",
       "      <td>0.002717</td>\n",
       "      <td>0.000188</td>\n",
       "      <td>...</td>\n",
       "      <td>0.166667</td>\n",
       "      <td>0.017241</td>\n",
       "      <td>0.000000</td>\n",
       "      <td>0.0</td>\n",
       "      <td>0.031250</td>\n",
       "      <td>0.0</td>\n",
       "      <td>0.016949</td>\n",
       "      <td>0.081967</td>\n",
       "      <td>0.0</td>\n",
       "      <td>2.705215e-02</td>\n",
       "    </tr>\n",
       "    <tr>\n",
       "      <th>3</th>\n",
       "      <td>0.001033</td>\n",
       "      <td>0.001089</td>\n",
       "      <td>0.000042</td>\n",
       "      <td>0.000053</td>\n",
       "      <td>0.000014</td>\n",
       "      <td>0.243137</td>\n",
       "      <td>0.992126</td>\n",
       "      <td>4.576117e-07</td>\n",
       "      <td>0.000150</td>\n",
       "      <td>0.000188</td>\n",
       "      <td>...</td>\n",
       "      <td>0.166667</td>\n",
       "      <td>0.017241</td>\n",
       "      <td>0.000000</td>\n",
       "      <td>0.0</td>\n",
       "      <td>0.031250</td>\n",
       "      <td>0.0</td>\n",
       "      <td>0.016949</td>\n",
       "      <td>0.000000</td>\n",
       "      <td>0.0</td>\n",
       "      <td>2.802737e-02</td>\n",
       "    </tr>\n",
       "    <tr>\n",
       "      <th>4</th>\n",
       "      <td>0.000845</td>\n",
       "      <td>0.000545</td>\n",
       "      <td>0.000036</td>\n",
       "      <td>0.000018</td>\n",
       "      <td>0.000033</td>\n",
       "      <td>0.996078</td>\n",
       "      <td>0.992126</td>\n",
       "      <td>1.429776e-06</td>\n",
       "      <td>0.000178</td>\n",
       "      <td>0.000376</td>\n",
       "      <td>...</td>\n",
       "      <td>0.166667</td>\n",
       "      <td>0.017241</td>\n",
       "      <td>0.017241</td>\n",
       "      <td>0.0</td>\n",
       "      <td>0.609375</td>\n",
       "      <td>0.0</td>\n",
       "      <td>0.016949</td>\n",
       "      <td>0.622951</td>\n",
       "      <td>0.0</td>\n",
       "      <td>7.490901e-03</td>\n",
       "    </tr>\n",
       "    <tr>\n",
       "      <th>...</th>\n",
       "      <td>...</td>\n",
       "      <td>...</td>\n",
       "      <td>...</td>\n",
       "      <td>...</td>\n",
       "      <td>...</td>\n",
       "      <td>...</td>\n",
       "      <td>...</td>\n",
       "      <td>...</td>\n",
       "      <td>...</td>\n",
       "      <td>...</td>\n",
       "      <td>...</td>\n",
       "      <td>...</td>\n",
       "      <td>...</td>\n",
       "      <td>...</td>\n",
       "      <td>...</td>\n",
       "      <td>...</td>\n",
       "      <td>...</td>\n",
       "      <td>...</td>\n",
       "      <td>...</td>\n",
       "      <td>...</td>\n",
       "      <td>...</td>\n",
       "    </tr>\n",
       "    <tr>\n",
       "      <th>82327</th>\n",
       "      <td>0.000094</td>\n",
       "      <td>0.000000</td>\n",
       "      <td>0.000006</td>\n",
       "      <td>0.000000</td>\n",
       "      <td>0.200000</td>\n",
       "      <td>0.996078</td>\n",
       "      <td>0.000000</td>\n",
       "      <td>1.389445e-02</td>\n",
       "      <td>0.000000</td>\n",
       "      <td>0.000000</td>\n",
       "      <td>...</td>\n",
       "      <td>0.333333</td>\n",
       "      <td>0.017241</td>\n",
       "      <td>0.000000</td>\n",
       "      <td>0.0</td>\n",
       "      <td>0.015625</td>\n",
       "      <td>0.0</td>\n",
       "      <td>0.016949</td>\n",
       "      <td>0.000000</td>\n",
       "      <td>0.0</td>\n",
       "      <td>8.333335e-08</td>\n",
       "    </tr>\n",
       "    <tr>\n",
       "      <th>82328</th>\n",
       "      <td>0.001785</td>\n",
       "      <td>0.000726</td>\n",
       "      <td>0.001257</td>\n",
       "      <td>0.000024</td>\n",
       "      <td>0.000024</td>\n",
       "      <td>0.996078</td>\n",
       "      <td>0.992126</td>\n",
       "      <td>2.072552e-05</td>\n",
       "      <td>0.000100</td>\n",
       "      <td>0.001316</td>\n",
       "      <td>...</td>\n",
       "      <td>0.166667</td>\n",
       "      <td>0.017241</td>\n",
       "      <td>0.000000</td>\n",
       "      <td>0.0</td>\n",
       "      <td>0.000000</td>\n",
       "      <td>0.0</td>\n",
       "      <td>0.033898</td>\n",
       "      <td>0.016393</td>\n",
       "      <td>0.0</td>\n",
       "      <td>1.843502e-02</td>\n",
       "    </tr>\n",
       "    <tr>\n",
       "      <th>82329</th>\n",
       "      <td>0.000000</td>\n",
       "      <td>0.000000</td>\n",
       "      <td>0.000002</td>\n",
       "      <td>0.000000</td>\n",
       "      <td>0.000000</td>\n",
       "      <td>0.000000</td>\n",
       "      <td>0.000000</td>\n",
       "      <td>0.000000e+00</td>\n",
       "      <td>0.000000</td>\n",
       "      <td>0.000000</td>\n",
       "      <td>...</td>\n",
       "      <td>0.333333</td>\n",
       "      <td>0.000000</td>\n",
       "      <td>0.000000</td>\n",
       "      <td>0.0</td>\n",
       "      <td>0.000000</td>\n",
       "      <td>0.0</td>\n",
       "      <td>0.000000</td>\n",
       "      <td>0.000000</td>\n",
       "      <td>0.0</td>\n",
       "      <td>0.000000e+00</td>\n",
       "    </tr>\n",
       "    <tr>\n",
       "      <th>82330</th>\n",
       "      <td>0.000000</td>\n",
       "      <td>0.000000</td>\n",
       "      <td>0.000002</td>\n",
       "      <td>0.000000</td>\n",
       "      <td>0.000000</td>\n",
       "      <td>0.000000</td>\n",
       "      <td>0.000000</td>\n",
       "      <td>0.000000e+00</td>\n",
       "      <td>0.000000</td>\n",
       "      <td>0.000000</td>\n",
       "      <td>...</td>\n",
       "      <td>0.333333</td>\n",
       "      <td>0.000000</td>\n",
       "      <td>0.000000</td>\n",
       "      <td>0.0</td>\n",
       "      <td>0.000000</td>\n",
       "      <td>0.0</td>\n",
       "      <td>0.000000</td>\n",
       "      <td>0.000000</td>\n",
       "      <td>0.0</td>\n",
       "      <td>0.000000e+00</td>\n",
       "    </tr>\n",
       "    <tr>\n",
       "      <th>82331</th>\n",
       "      <td>0.000094</td>\n",
       "      <td>0.000000</td>\n",
       "      <td>0.000006</td>\n",
       "      <td>0.000000</td>\n",
       "      <td>0.111111</td>\n",
       "      <td>0.996078</td>\n",
       "      <td>0.000000</td>\n",
       "      <td>7.719141e-03</td>\n",
       "      <td>0.000000</td>\n",
       "      <td>0.000000</td>\n",
       "      <td>...</td>\n",
       "      <td>0.333333</td>\n",
       "      <td>0.000000</td>\n",
       "      <td>0.000000</td>\n",
       "      <td>0.0</td>\n",
       "      <td>0.000000</td>\n",
       "      <td>0.0</td>\n",
       "      <td>0.000000</td>\n",
       "      <td>0.000000</td>\n",
       "      <td>0.0</td>\n",
       "      <td>1.500000e-07</td>\n",
       "    </tr>\n",
       "  </tbody>\n",
       "</table>\n",
       "<p>257673 rows × 31 columns</p>\n",
       "</div>"
      ],
      "text/plain": [
       "          spkts     dpkts    sbytes    dbytes      rate      sttl      dttl  \\\n",
       "0      0.000470  0.000363  0.000016  0.000012  0.000074  0.988235  1.000000   \n",
       "1      0.001221  0.003449  0.000049  0.002866  0.000078  0.243137  0.992126   \n",
       "2      0.000658  0.001452  0.000024  0.000900  0.000014  0.243137  0.992126   \n",
       "3      0.001033  0.001089  0.000042  0.000053  0.000014  0.243137  0.992126   \n",
       "4      0.000845  0.000545  0.000036  0.000018  0.000033  0.996078  0.992126   \n",
       "...         ...       ...       ...       ...       ...       ...       ...   \n",
       "82327  0.000094  0.000000  0.000006  0.000000  0.200000  0.996078  0.000000   \n",
       "82328  0.001785  0.000726  0.001257  0.000024  0.000024  0.996078  0.992126   \n",
       "82329  0.000000  0.000000  0.000002  0.000000  0.000000  0.000000  0.000000   \n",
       "82330  0.000000  0.000000  0.000002  0.000000  0.000000  0.000000  0.000000   \n",
       "82331  0.000094  0.000000  0.000006  0.000000  0.111111  0.996078  0.000000   \n",
       "\n",
       "              sload     dload     sloss  ...  ct_state_ttl  ct_dst_ltm  \\\n",
       "0      2.364553e-06  0.000379  0.000000  ...      0.000000    0.000000   \n",
       "1      1.401989e-06  0.022458  0.000376  ...      0.166667    0.000000   \n",
       "2      2.625704e-07  0.002717  0.000188  ...      0.166667    0.017241   \n",
       "3      4.576117e-07  0.000150  0.000188  ...      0.166667    0.017241   \n",
       "4      1.429776e-06  0.000178  0.000376  ...      0.166667    0.017241   \n",
       "...             ...       ...       ...  ...           ...         ...   \n",
       "82327  1.389445e-02  0.000000  0.000000  ...      0.333333    0.017241   \n",
       "82328  2.072552e-05  0.000100  0.001316  ...      0.166667    0.017241   \n",
       "82329  0.000000e+00  0.000000  0.000000  ...      0.333333    0.000000   \n",
       "82330  0.000000e+00  0.000000  0.000000  ...      0.333333    0.000000   \n",
       "82331  7.719141e-03  0.000000  0.000000  ...      0.333333    0.000000   \n",
       "\n",
       "       ct_src_dport_ltm  ct_dst_sport_ltm  ct_dst_src_ltm  ct_flw_http_mthd  \\\n",
       "0              0.000000               0.0        0.000000               0.0   \n",
       "1              0.000000               0.0        0.015625               0.0   \n",
       "2              0.000000               0.0        0.031250               0.0   \n",
       "3              0.000000               0.0        0.031250               0.0   \n",
       "4              0.017241               0.0        0.609375               0.0   \n",
       "...                 ...               ...             ...               ...   \n",
       "82327          0.000000               0.0        0.015625               0.0   \n",
       "82328          0.000000               0.0        0.000000               0.0   \n",
       "82329          0.000000               0.0        0.000000               0.0   \n",
       "82330          0.000000               0.0        0.000000               0.0   \n",
       "82331          0.000000               0.0        0.000000               0.0   \n",
       "\n",
       "       ct_src_ltm  ct_srv_dst  label           dur  \n",
       "0        0.000000    0.000000    0.0  2.024634e-03  \n",
       "1        0.000000    0.081967    0.0  1.083170e-02  \n",
       "2        0.016949    0.081967    0.0  2.705215e-02  \n",
       "3        0.016949    0.000000    0.0  2.802737e-02  \n",
       "4        0.016949    0.622951    0.0  7.490901e-03  \n",
       "...           ...         ...    ...           ...  \n",
       "82327    0.016949    0.000000    0.0  8.333335e-08  \n",
       "82328    0.033898    0.016393    0.0  1.843502e-02  \n",
       "82329    0.000000    0.000000    0.0  0.000000e+00  \n",
       "82330    0.000000    0.000000    0.0  0.000000e+00  \n",
       "82331    0.000000    0.000000    0.0  1.500000e-07  \n",
       "\n",
       "[257673 rows x 31 columns]"
      ]
     },
     "execution_count": 14,
     "metadata": {},
     "output_type": "execute_result"
    }
   ],
   "source": [
    "combined_data_reduced[transform]"
   ]
  },
  {
   "cell_type": "code",
   "execution_count": 15,
   "metadata": {},
   "outputs": [],
   "source": [
    "data_x = combined_data_reduced.drop(['attack_cat','label'], axis=1) # droped label\n",
    "data_y = combined_data_reduced.loc[:,['label']]\n",
    "\n",
    "# del combined_data # free mem\n",
    "\n",
    "X_train, X_test, y_train, y_test = train_test_split(data_x, data_y, test_size=.90, random_state=42) # TODO"
   ]
  },
  {
   "cell_type": "code",
   "execution_count": 16,
   "metadata": {},
   "outputs": [
    {
     "data": {
      "text/html": [
       "<div>\n",
       "<style scoped>\n",
       "    .dataframe tbody tr th:only-of-type {\n",
       "        vertical-align: middle;\n",
       "    }\n",
       "\n",
       "    .dataframe tbody tr th {\n",
       "        vertical-align: top;\n",
       "    }\n",
       "\n",
       "    .dataframe thead th {\n",
       "        text-align: right;\n",
       "    }\n",
       "</style>\n",
       "<table border=\"1\" class=\"dataframe\">\n",
       "  <thead>\n",
       "    <tr style=\"text-align: right;\">\n",
       "      <th></th>\n",
       "      <th>spkts</th>\n",
       "      <th>dpkts</th>\n",
       "      <th>sbytes</th>\n",
       "      <th>dbytes</th>\n",
       "      <th>rate</th>\n",
       "      <th>sttl</th>\n",
       "      <th>dttl</th>\n",
       "      <th>sload</th>\n",
       "      <th>dload</th>\n",
       "      <th>sloss</th>\n",
       "      <th>...</th>\n",
       "      <th>ct_state_ttl</th>\n",
       "      <th>ct_dst_ltm</th>\n",
       "      <th>ct_src_dport_ltm</th>\n",
       "      <th>ct_dst_sport_ltm</th>\n",
       "      <th>ct_dst_src_ltm</th>\n",
       "      <th>ct_flw_http_mthd</th>\n",
       "      <th>ct_src_ltm</th>\n",
       "      <th>ct_srv_dst</th>\n",
       "      <th>label</th>\n",
       "      <th>dur</th>\n",
       "    </tr>\n",
       "  </thead>\n",
       "  <tbody>\n",
       "    <tr>\n",
       "      <th>0</th>\n",
       "      <td>0.000470</td>\n",
       "      <td>0.000363</td>\n",
       "      <td>0.000016</td>\n",
       "      <td>0.000012</td>\n",
       "      <td>0.000074</td>\n",
       "      <td>0.988235</td>\n",
       "      <td>1.000000</td>\n",
       "      <td>2.364553e-06</td>\n",
       "      <td>0.000379</td>\n",
       "      <td>0.000000</td>\n",
       "      <td>...</td>\n",
       "      <td>0.000000</td>\n",
       "      <td>0.000000</td>\n",
       "      <td>0.000000</td>\n",
       "      <td>0.0</td>\n",
       "      <td>0.000000</td>\n",
       "      <td>0.0</td>\n",
       "      <td>0.000000</td>\n",
       "      <td>0.000000</td>\n",
       "      <td>0.0</td>\n",
       "      <td>0.002025</td>\n",
       "    </tr>\n",
       "    <tr>\n",
       "      <th>1</th>\n",
       "      <td>0.001221</td>\n",
       "      <td>0.003449</td>\n",
       "      <td>0.000049</td>\n",
       "      <td>0.002866</td>\n",
       "      <td>0.000078</td>\n",
       "      <td>0.243137</td>\n",
       "      <td>0.992126</td>\n",
       "      <td>1.401989e-06</td>\n",
       "      <td>0.022458</td>\n",
       "      <td>0.000376</td>\n",
       "      <td>...</td>\n",
       "      <td>0.166667</td>\n",
       "      <td>0.000000</td>\n",
       "      <td>0.000000</td>\n",
       "      <td>0.0</td>\n",
       "      <td>0.015625</td>\n",
       "      <td>0.0</td>\n",
       "      <td>0.000000</td>\n",
       "      <td>0.081967</td>\n",
       "      <td>0.0</td>\n",
       "      <td>0.010832</td>\n",
       "    </tr>\n",
       "    <tr>\n",
       "      <th>2</th>\n",
       "      <td>0.000658</td>\n",
       "      <td>0.001452</td>\n",
       "      <td>0.000024</td>\n",
       "      <td>0.000900</td>\n",
       "      <td>0.000014</td>\n",
       "      <td>0.243137</td>\n",
       "      <td>0.992126</td>\n",
       "      <td>2.625704e-07</td>\n",
       "      <td>0.002717</td>\n",
       "      <td>0.000188</td>\n",
       "      <td>...</td>\n",
       "      <td>0.166667</td>\n",
       "      <td>0.017241</td>\n",
       "      <td>0.000000</td>\n",
       "      <td>0.0</td>\n",
       "      <td>0.031250</td>\n",
       "      <td>0.0</td>\n",
       "      <td>0.016949</td>\n",
       "      <td>0.081967</td>\n",
       "      <td>0.0</td>\n",
       "      <td>0.027052</td>\n",
       "    </tr>\n",
       "    <tr>\n",
       "      <th>3</th>\n",
       "      <td>0.001033</td>\n",
       "      <td>0.001089</td>\n",
       "      <td>0.000042</td>\n",
       "      <td>0.000053</td>\n",
       "      <td>0.000014</td>\n",
       "      <td>0.243137</td>\n",
       "      <td>0.992126</td>\n",
       "      <td>4.576117e-07</td>\n",
       "      <td>0.000150</td>\n",
       "      <td>0.000188</td>\n",
       "      <td>...</td>\n",
       "      <td>0.166667</td>\n",
       "      <td>0.017241</td>\n",
       "      <td>0.000000</td>\n",
       "      <td>0.0</td>\n",
       "      <td>0.031250</td>\n",
       "      <td>0.0</td>\n",
       "      <td>0.016949</td>\n",
       "      <td>0.000000</td>\n",
       "      <td>0.0</td>\n",
       "      <td>0.028027</td>\n",
       "    </tr>\n",
       "    <tr>\n",
       "      <th>4</th>\n",
       "      <td>0.000845</td>\n",
       "      <td>0.000545</td>\n",
       "      <td>0.000036</td>\n",
       "      <td>0.000018</td>\n",
       "      <td>0.000033</td>\n",
       "      <td>0.996078</td>\n",
       "      <td>0.992126</td>\n",
       "      <td>1.429776e-06</td>\n",
       "      <td>0.000178</td>\n",
       "      <td>0.000376</td>\n",
       "      <td>...</td>\n",
       "      <td>0.166667</td>\n",
       "      <td>0.017241</td>\n",
       "      <td>0.017241</td>\n",
       "      <td>0.0</td>\n",
       "      <td>0.609375</td>\n",
       "      <td>0.0</td>\n",
       "      <td>0.016949</td>\n",
       "      <td>0.622951</td>\n",
       "      <td>0.0</td>\n",
       "      <td>0.007491</td>\n",
       "    </tr>\n",
       "  </tbody>\n",
       "</table>\n",
       "<p>5 rows × 31 columns</p>\n",
       "</div>"
      ],
      "text/plain": [
       "      spkts     dpkts    sbytes    dbytes      rate      sttl      dttl  \\\n",
       "0  0.000470  0.000363  0.000016  0.000012  0.000074  0.988235  1.000000   \n",
       "1  0.001221  0.003449  0.000049  0.002866  0.000078  0.243137  0.992126   \n",
       "2  0.000658  0.001452  0.000024  0.000900  0.000014  0.243137  0.992126   \n",
       "3  0.001033  0.001089  0.000042  0.000053  0.000014  0.243137  0.992126   \n",
       "4  0.000845  0.000545  0.000036  0.000018  0.000033  0.996078  0.992126   \n",
       "\n",
       "          sload     dload     sloss  ...  ct_state_ttl  ct_dst_ltm  \\\n",
       "0  2.364553e-06  0.000379  0.000000  ...      0.000000    0.000000   \n",
       "1  1.401989e-06  0.022458  0.000376  ...      0.166667    0.000000   \n",
       "2  2.625704e-07  0.002717  0.000188  ...      0.166667    0.017241   \n",
       "3  4.576117e-07  0.000150  0.000188  ...      0.166667    0.017241   \n",
       "4  1.429776e-06  0.000178  0.000376  ...      0.166667    0.017241   \n",
       "\n",
       "   ct_src_dport_ltm  ct_dst_sport_ltm  ct_dst_src_ltm  ct_flw_http_mthd  \\\n",
       "0          0.000000               0.0        0.000000               0.0   \n",
       "1          0.000000               0.0        0.015625               0.0   \n",
       "2          0.000000               0.0        0.031250               0.0   \n",
       "3          0.000000               0.0        0.031250               0.0   \n",
       "4          0.017241               0.0        0.609375               0.0   \n",
       "\n",
       "   ct_src_ltm  ct_srv_dst  label       dur  \n",
       "0    0.000000    0.000000    0.0  0.002025  \n",
       "1    0.000000    0.081967    0.0  0.010832  \n",
       "2    0.016949    0.081967    0.0  0.027052  \n",
       "3    0.016949    0.000000    0.0  0.028027  \n",
       "4    0.016949    0.622951    0.0  0.007491  \n",
       "\n",
       "[5 rows x 31 columns]"
      ]
     },
     "execution_count": 16,
     "metadata": {},
     "output_type": "execute_result"
    }
   ],
   "source": [
    "combined_data_reduced[transform].head(5)"
   ]
  },
  {
   "cell_type": "code",
   "execution_count": 17,
   "metadata": {},
   "outputs": [
    {
     "data": {
      "text/html": [
       "<div>\n",
       "<style scoped>\n",
       "    .dataframe tbody tr th:only-of-type {\n",
       "        vertical-align: middle;\n",
       "    }\n",
       "\n",
       "    .dataframe tbody tr th {\n",
       "        vertical-align: top;\n",
       "    }\n",
       "\n",
       "    .dataframe thead th {\n",
       "        text-align: right;\n",
       "    }\n",
       "</style>\n",
       "<table border=\"1\" class=\"dataframe\">\n",
       "  <thead>\n",
       "    <tr style=\"text-align: right;\">\n",
       "      <th></th>\n",
       "      <th>label</th>\n",
       "    </tr>\n",
       "  </thead>\n",
       "  <tbody>\n",
       "    <tr>\n",
       "      <th>0</th>\n",
       "      <td>0.0</td>\n",
       "    </tr>\n",
       "    <tr>\n",
       "      <th>1</th>\n",
       "      <td>0.0</td>\n",
       "    </tr>\n",
       "    <tr>\n",
       "      <th>2</th>\n",
       "      <td>0.0</td>\n",
       "    </tr>\n",
       "    <tr>\n",
       "      <th>3</th>\n",
       "      <td>0.0</td>\n",
       "    </tr>\n",
       "    <tr>\n",
       "      <th>4</th>\n",
       "      <td>0.0</td>\n",
       "    </tr>\n",
       "    <tr>\n",
       "      <th>...</th>\n",
       "      <td>...</td>\n",
       "    </tr>\n",
       "    <tr>\n",
       "      <th>82327</th>\n",
       "      <td>0.0</td>\n",
       "    </tr>\n",
       "    <tr>\n",
       "      <th>82328</th>\n",
       "      <td>0.0</td>\n",
       "    </tr>\n",
       "    <tr>\n",
       "      <th>82329</th>\n",
       "      <td>0.0</td>\n",
       "    </tr>\n",
       "    <tr>\n",
       "      <th>82330</th>\n",
       "      <td>0.0</td>\n",
       "    </tr>\n",
       "    <tr>\n",
       "      <th>82331</th>\n",
       "      <td>0.0</td>\n",
       "    </tr>\n",
       "  </tbody>\n",
       "</table>\n",
       "<p>257673 rows × 1 columns</p>\n",
       "</div>"
      ],
      "text/plain": [
       "       label\n",
       "0        0.0\n",
       "1        0.0\n",
       "2        0.0\n",
       "3        0.0\n",
       "4        0.0\n",
       "...      ...\n",
       "82327    0.0\n",
       "82328    0.0\n",
       "82329    0.0\n",
       "82330    0.0\n",
       "82331    0.0\n",
       "\n",
       "[257673 rows x 1 columns]"
      ]
     },
     "execution_count": 17,
     "metadata": {},
     "output_type": "execute_result"
    }
   ],
   "source": [
    "data_y"
   ]
  },
  {
   "cell_type": "code",
   "execution_count": 18,
   "metadata": {},
   "outputs": [
    {
     "data": {
      "text/plain": [
       "(25767, 33)"
      ]
     },
     "execution_count": 18,
     "metadata": {},
     "output_type": "execute_result"
    },
    {
     "data": {
      "text/plain": [
       "(25767, 1)"
      ]
     },
     "execution_count": 18,
     "metadata": {},
     "output_type": "execute_result"
    },
    {
     "data": {
      "text/plain": [
       "(231906, 33)"
      ]
     },
     "execution_count": 18,
     "metadata": {},
     "output_type": "execute_result"
    },
    {
     "data": {
      "text/plain": [
       "(231906, 1)"
      ]
     },
     "execution_count": 18,
     "metadata": {},
     "output_type": "execute_result"
    }
   ],
   "source": [
    "X_train.shape\n",
    "y_train.shape\n",
    "X_test.shape # test is larger... good \n",
    "y_test.shape"
   ]
  },
  {
   "cell_type": "markdown",
   "metadata": {},
   "source": [
    "Benchmark before additional feature removal"
   ]
  },
  {
   "cell_type": "code",
   "execution_count": 21,
   "metadata": {},
   "outputs": [],
   "source": [
    "\n",
    "DTC = DecisionTreeClassifier() \n",
    "RFC = RandomForestClassifier(n_estimators=25, random_state=1)\n",
    "ETC = ExtraTreesClassifier(n_estimators=10, criterion='gini', max_features='auto', bootstrap=False)\n"
   ]
  },
  {
   "cell_type": "code",
   "execution_count": 22,
   "metadata": {},
   "outputs": [],
   "source": [
    "from sklearn.feature_selection import RFE\n",
    "from sklearn.decomposition import PCA,TruncatedSVD,PCA\n",
    "from sklearn.svm import LinearSVC\n",
    "n = 10"
   ]
  },
  {
   "cell_type": "code",
   "execution_count": 23,
   "metadata": {},
   "outputs": [],
   "source": [
    "rfe = RFE(DecisionTreeClassifier(), n).fit(X_train,y_train)\n",
    "\n",
    "desiredIndices = np.where(rfe.support_==True)[0]\n",
    "whitelist = X_train.columns.values[desiredIndices]\n",
    "X_train_RFE,X_test_RFE = X_train[whitelist],X_test[whitelist]\n"
   ]
  },
  {
   "cell_type": "code",
   "execution_count": 24,
   "metadata": {},
   "outputs": [],
   "source": [
    "svd = TruncatedSVD(n_components=n-1).fit(X_train_RFE)   # -20 will give 0.778, in the below benchmark preditings catogories \n",
    "X_train_svd, X_test_svd = svd.transform(X_train_RFE), svd.transform(X_test_RFE)"
   ]
  },
  {
   "cell_type": "markdown",
   "metadata": {},
   "source": [
    "Benchmark after additional feature removal"
   ]
  },
  {
   "cell_type": "code",
   "execution_count": 31,
   "metadata": {},
   "outputs": [
    {
     "name": "stdout",
     "output_type": "stream",
     "text": [
      "(25767, 9)\n",
      "Acc: 0.9175528016 [DecisionTreeClassifier]\n",
      "Acc: 0.9176002346 [RandomForestClassifier]\n",
      "Acc: 0.9171776496 [ExtraTreesClassifier]\n",
      "Acc: 0.9173716937 [Ensemble]\n"
     ]
    }
   ],
   "source": [
    "print(X_train_svd.shape)\n",
    "\n",
    "DTC = DecisionTreeClassifier() \n",
    "RFC = RandomForestClassifier(n_estimators=25, random_state=1)\n",
    "ETC = ExtraTreesClassifier(n_estimators=10, criterion='gini', max_features='auto', bootstrap=False)\n",
    "eclf = VotingClassifier(estimators=[('DecisionTreeClassifier', DTC), ('RandomForestClassifier', RFC),('ExtraTreesClassifier',ETC)], voting='hard')\n",
    "for clf, label in zip([DTC, RFC,ETC, eclf], ['DecisionTreeClassifier', 'RandomForestClassifier', 'ExtraTreesClassifier', 'Ensemble']): \n",
    "        _ = eclf.fit(X_train_svd,y_train)\n",
    "        pred = eclf.score(X_test_svd,y_test)\n",
    "        print(\"Acc: %0.10f [%s]\" % (pred,label))"
   ]
  },
  {
   "cell_type": "markdown",
   "metadata": {},
   "source": [
    "#### Deep Learning "
   ]
  },
  {
   "cell_type": "markdown",
   "metadata": {},
   "source": [
    "We ran  SVD/PCA to remove variance since the  goal to \"get the better deep learning result possible\""
   ]
  },
  {
   "cell_type": "code",
   "execution_count": 32,
   "metadata": {},
   "outputs": [],
   "source": [
    "from keras.models import Sequential\n"
   ]
  },
  {
   "cell_type": "code",
   "execution_count": 33,
   "metadata": {},
   "outputs": [
    {
     "data": {
      "text/plain": [
       "9"
      ]
     },
     "execution_count": 33,
     "metadata": {},
     "output_type": "execute_result"
    }
   ],
   "source": [
    "X = X_train_svd\n",
    "X_t = X_test_svd\n",
    "\n",
    "dim = X.shape[1]\n",
    "dim"
   ]
  },
  {
   "cell_type": "code",
   "execution_count": 34,
   "metadata": {},
   "outputs": [
    {
     "data": {
      "text/plain": [
       "array([[ 1.02004827e+00, -2.14777921e-01, -1.55074326e-02, ...,\n",
       "         2.74818341e-03,  1.22863697e-03,  6.44092740e-04],\n",
       "       [ 1.19220575e-03,  1.67448550e-03, -1.30256606e-03, ...,\n",
       "        -7.36281365e-05, -3.35816098e-04,  2.95370680e-05],\n",
       "       [ 1.15223375e+00, -3.68049453e-01,  3.98011908e-01, ...,\n",
       "         7.11088495e-03,  2.35011412e-04, -5.39450559e-04],\n",
       "       ...,\n",
       "       [ 1.12547070e+00, -3.32664505e-01,  3.77226512e-01, ...,\n",
       "         5.38729316e-03,  7.00134942e-04, -8.67150222e-05],\n",
       "       [ 1.15789246e+00, -3.72136674e-01,  4.51489580e-01, ...,\n",
       "         6.82000694e-03,  3.42509537e-04, -4.68981223e-04],\n",
       "       [ 1.07459470e+00, -2.75581914e-01,  1.90465331e-01, ...,\n",
       "         4.07671154e-03,  9.66797988e-04,  2.75342461e-04]])"
      ]
     },
     "execution_count": 34,
     "metadata": {},
     "output_type": "execute_result"
    }
   ],
   "source": [
    "X"
   ]
  },
  {
   "cell_type": "code",
   "execution_count": 35,
   "metadata": {},
   "outputs": [
    {
     "data": {
      "text/plain": [
       "array([[ 1.02601253e+00, -2.23795103e-01, -2.72362700e-02, ...,\n",
       "         3.35073026e-03,  1.05636892e-03,  4.87800989e-04],\n",
       "       [ 1.05950481e+00, -2.64682666e-01,  4.78582101e-02, ...,\n",
       "         4.85238713e-03,  6.80137676e-04,  8.74249153e-05],\n",
       "       [ 4.02208620e-01,  7.16847399e-01,  1.41167605e-01, ...,\n",
       "         1.34141173e-02, -2.01339918e-03, -2.65146651e-03],\n",
       "       ...,\n",
       "       [ 1.05247502e+00,  4.23997785e-01, -1.48071611e-01, ...,\n",
       "         1.00882639e-02,  1.59331267e-03, -9.30579062e-04],\n",
       "       [ 1.57068783e-01,  9.68517351e-02,  4.92433482e-02, ...,\n",
       "        -3.14333373e-02,  5.46950892e-04,  3.48067557e-03],\n",
       "       [ 9.66455590e-01, -1.50012659e-01, -2.41456101e-01, ...,\n",
       "         1.40553170e-03,  7.91510378e-04,  1.03846290e-03]])"
      ]
     },
     "execution_count": 35,
     "metadata": {},
     "output_type": "execute_result"
    }
   ],
   "source": [
    "X_t"
   ]
  },
  {
   "cell_type": "code",
   "execution_count": 36,
   "metadata": {},
   "outputs": [],
   "source": [
    "X_v,y_v  = X_t[:X_t.shape[0]], y_test[:X_t.shape[0]]\n",
    "#X_v ,y_v = X_t[:X_t.shape[0]/5], y_test[:X_t.shape[0]/5]"
   ]
  },
  {
   "cell_type": "code",
   "execution_count": 37,
   "metadata": {},
   "outputs": [
    {
     "data": {
      "text/plain": [
       "array([[ 1.02601253e+00, -2.23795103e-01, -2.72362700e-02, ...,\n",
       "         3.35073026e-03,  1.05636892e-03,  4.87800989e-04],\n",
       "       [ 1.05950481e+00, -2.64682666e-01,  4.78582101e-02, ...,\n",
       "         4.85238713e-03,  6.80137676e-04,  8.74249153e-05],\n",
       "       [ 4.02208620e-01,  7.16847399e-01,  1.41167605e-01, ...,\n",
       "         1.34141173e-02, -2.01339918e-03, -2.65146651e-03],\n",
       "       ...,\n",
       "       [ 1.05247502e+00,  4.23997785e-01, -1.48071611e-01, ...,\n",
       "         1.00882639e-02,  1.59331267e-03, -9.30579062e-04],\n",
       "       [ 1.57068783e-01,  9.68517351e-02,  4.92433482e-02, ...,\n",
       "        -3.14333373e-02,  5.46950892e-04,  3.48067557e-03],\n",
       "       [ 9.66455590e-01, -1.50012659e-01, -2.41456101e-01, ...,\n",
       "         1.40553170e-03,  7.91510378e-04,  1.03846290e-03]])"
      ]
     },
     "execution_count": 37,
     "metadata": {},
     "output_type": "execute_result"
    }
   ],
   "source": [
    "X_v"
   ]
  },
  {
   "cell_type": "code",
   "execution_count": 38,
   "metadata": {},
   "outputs": [
    {
     "data": {
      "text/html": [
       "<div>\n",
       "<style scoped>\n",
       "    .dataframe tbody tr th:only-of-type {\n",
       "        vertical-align: middle;\n",
       "    }\n",
       "\n",
       "    .dataframe tbody tr th {\n",
       "        vertical-align: top;\n",
       "    }\n",
       "\n",
       "    .dataframe thead th {\n",
       "        text-align: right;\n",
       "    }\n",
       "</style>\n",
       "<table border=\"1\" class=\"dataframe\">\n",
       "  <thead>\n",
       "    <tr style=\"text-align: right;\">\n",
       "      <th></th>\n",
       "      <th>label</th>\n",
       "    </tr>\n",
       "  </thead>\n",
       "  <tbody>\n",
       "    <tr>\n",
       "      <th>122637</th>\n",
       "      <td>1.0</td>\n",
       "    </tr>\n",
       "    <tr>\n",
       "      <th>137118</th>\n",
       "      <td>1.0</td>\n",
       "    </tr>\n",
       "    <tr>\n",
       "      <th>69948</th>\n",
       "      <td>0.0</td>\n",
       "    </tr>\n",
       "    <tr>\n",
       "      <th>45921</th>\n",
       "      <td>1.0</td>\n",
       "    </tr>\n",
       "    <tr>\n",
       "      <th>31408</th>\n",
       "      <td>0.0</td>\n",
       "    </tr>\n",
       "    <tr>\n",
       "      <th>...</th>\n",
       "      <td>...</td>\n",
       "    </tr>\n",
       "    <tr>\n",
       "      <th>61410</th>\n",
       "      <td>1.0</td>\n",
       "    </tr>\n",
       "    <tr>\n",
       "      <th>29473</th>\n",
       "      <td>0.0</td>\n",
       "    </tr>\n",
       "    <tr>\n",
       "      <th>58189</th>\n",
       "      <td>1.0</td>\n",
       "    </tr>\n",
       "    <tr>\n",
       "      <th>28273</th>\n",
       "      <td>0.0</td>\n",
       "    </tr>\n",
       "    <tr>\n",
       "      <th>108173</th>\n",
       "      <td>1.0</td>\n",
       "    </tr>\n",
       "  </tbody>\n",
       "</table>\n",
       "<p>231906 rows × 1 columns</p>\n",
       "</div>"
      ],
      "text/plain": [
       "        label\n",
       "122637    1.0\n",
       "137118    1.0\n",
       "69948     0.0\n",
       "45921     1.0\n",
       "31408     0.0\n",
       "...       ...\n",
       "61410     1.0\n",
       "29473     0.0\n",
       "58189     1.0\n",
       "28273     0.0\n",
       "108173    1.0\n",
       "\n",
       "[231906 rows x 1 columns]"
      ]
     },
     "execution_count": 38,
     "metadata": {},
     "output_type": "execute_result"
    }
   ],
   "source": [
    "y_v"
   ]
  },
  {
   "cell_type": "code",
   "execution_count": 39,
   "metadata": {},
   "outputs": [],
   "source": [
    "from sklearn.preprocessing import MinMaxScaler\n",
    "mms = MinMaxScaler()\n",
    "X_train_svd = mms.fit_transform(X_train_svd)\n",
    "X_test_svd = mms.transform(X_test_svd)"
   ]
  },
  {
   "cell_type": "code",
   "execution_count": 40,
   "metadata": {},
   "outputs": [
    {
     "data": {
      "text/plain": [
       "array([[0.76320459, 0.22014632, 0.29526959, ..., 0.38534014, 0.02817191,\n",
       "        0.03571041],\n",
       "       [0.        , 0.36051648, 0.30549002, ..., 0.38287326, 0.02682515,\n",
       "        0.03433046],\n",
       "       [0.86222207, 0.12074918, 0.59279754, ..., 0.38915409, 0.02731654,\n",
       "        0.03305282],\n",
       "       ...,\n",
       "       [0.84217441, 0.14369645, 0.57784241, ..., 0.3876473 , 0.02771695,\n",
       "        0.03406942],\n",
       "       [0.8664609 , 0.1180986 , 0.63127483, ..., 0.3888998 , 0.02740908,\n",
       "        0.03321106],\n",
       "       [0.80406422, 0.18071471, 0.44346738, ..., 0.38650156, 0.0279465 ,\n",
       "        0.0348824 ]])"
      ]
     },
     "execution_count": 40,
     "metadata": {},
     "output_type": "execute_result"
    }
   ],
   "source": [
    "X_train_svd"
   ]
  },
  {
   "cell_type": "code",
   "execution_count": 41,
   "metadata": {},
   "outputs": [],
   "source": [
    "classifier = Sequential()\n",
    "#First Hidden Layer\n",
    "classifier.add(Dense(18, activation='relu', input_dim=dim))\n",
    "\n",
    "classifier.add(Dense(36, activation='relu'))\n",
    "classifier.add(Dropout(0.07))\n",
    "classifier.add(Dense(18, activation='relu' ))\n",
    "classifier.add(Dropout(0.07))\n",
    "classifier.add(Dense(9, activation='relu'))\n",
    "\n",
    "classifier.add(Dense(1, activation='sigmoid'))\n",
    "\n",
    "classifier.compile(optimizer ='adam',loss='binary_crossentropy', metrics =['accuracy'])"
   ]
  },
  {
   "cell_type": "code",
   "execution_count": 42,
   "metadata": {},
   "outputs": [],
   "source": [
    "#tensorboard = TensorBoard(histogram_freq=0,\n",
    "#                         write_graph=True,\n",
    "    \n",
    "    \n",
    "tensorboard = TensorBoard(log_dir=f\".\\logs\\MODEL\", histogram_freq=1,\n",
    "                                  write_grads=True)"
   ]
  },
  {
   "cell_type": "code",
   "execution_count": 43,
   "metadata": {},
   "outputs": [
    {
     "name": "stdout",
     "output_type": "stream",
     "text": [
      "Train on 25767 samples, validate on 231906 samples\n",
      "Epoch 1/30\n",
      "25767/25767 [==============================] - 11s 423us/step - loss: 0.3605 - accuracy: 0.8477 - val_loss: 0.2826 - val_accuracy: 0.8847\n",
      "Epoch 2/30\n",
      "25767/25767 [==============================] - 9s 365us/step - loss: 0.2727 - accuracy: 0.8885 - val_loss: 0.2575 - val_accuracy: 0.8941\n",
      "Epoch 3/30\n",
      "25767/25767 [==============================] - 9s 367us/step - loss: 0.2585 - accuracy: 0.8928 - val_loss: 0.2479 - val_accuracy: 0.8957\n",
      "Epoch 4/30\n",
      "25767/25767 [==============================] - 9s 362us/step - loss: 0.2507 - accuracy: 0.8957 - val_loss: 0.2447 - val_accuracy: 0.8981\n",
      "Epoch 5/30\n",
      "25767/25767 [==============================] - 10s 375us/step - loss: 0.2455 - accuracy: 0.8981 - val_loss: 0.2389 - val_accuracy: 0.9005\n",
      "Epoch 6/30\n",
      "25767/25767 [==============================] - 9s 366us/step - loss: 0.2399 - accuracy: 0.9013 - val_loss: 0.2385 - val_accuracy: 0.8991\n",
      "Epoch 7/30\n",
      "25767/25767 [==============================] - 9s 363us/step - loss: 0.2348 - accuracy: 0.9025 - val_loss: 0.2297 - val_accuracy: 0.9032\n",
      "Epoch 8/30\n",
      "25767/25767 [==============================] - 9s 367us/step - loss: 0.2289 - accuracy: 0.9045 - val_loss: 0.2214 - val_accuracy: 0.9025\n",
      "Epoch 9/30\n",
      "25767/25767 [==============================] - 9s 364us/step - loss: 0.2181 - accuracy: 0.9052 - val_loss: 0.2105 - val_accuracy: 0.9068\n",
      "Epoch 10/30\n",
      "25767/25767 [==============================] - 9s 364us/step - loss: 0.2125 - accuracy: 0.9090 - val_loss: 0.2032 - val_accuracy: 0.9088\n",
      "Epoch 11/30\n",
      "25767/25767 [==============================] - 9s 363us/step - loss: 0.2067 - accuracy: 0.9105 - val_loss: 0.2014 - val_accuracy: 0.9077\n",
      "Epoch 12/30\n",
      "25767/25767 [==============================] - 10s 375us/step - loss: 0.2025 - accuracy: 0.9123 - val_loss: 0.1933 - val_accuracy: 0.9112\n",
      "Epoch 13/30\n",
      "25767/25767 [==============================] - 9s 366us/step - loss: 0.1995 - accuracy: 0.9108 - val_loss: 0.1957 - val_accuracy: 0.9091\n",
      "Epoch 14/30\n",
      "25767/25767 [==============================] - 9s 362us/step - loss: 0.1979 - accuracy: 0.9128 - val_loss: 0.1931 - val_accuracy: 0.9119\n",
      "Epoch 15/30\n",
      "25767/25767 [==============================] - 9s 366us/step - loss: 0.1966 - accuracy: 0.9125 - val_loss: 0.1924 - val_accuracy: 0.9135\n",
      "Epoch 16/30\n",
      "25767/25767 [==============================] - 9s 364us/step - loss: 0.1938 - accuracy: 0.9142 - val_loss: 0.1893 - val_accuracy: 0.9132\n",
      "Epoch 17/30\n",
      "25767/25767 [==============================] - 9s 366us/step - loss: 0.1913 - accuracy: 0.9143 - val_loss: 0.1944 - val_accuracy: 0.9105\n",
      "Epoch 18/30\n",
      "25767/25767 [==============================] - 9s 368us/step - loss: 0.1894 - accuracy: 0.9153 - val_loss: 0.1850 - val_accuracy: 0.9183\n",
      "Epoch 19/30\n",
      "25767/25767 [==============================] - 10s 372us/step - loss: 0.1888 - accuracy: 0.9158 - val_loss: 0.1821 - val_accuracy: 0.9158\n",
      "Epoch 20/30\n",
      "25767/25767 [==============================] - 9s 364us/step - loss: 0.1892 - accuracy: 0.9154 - val_loss: 0.1784 - val_accuracy: 0.9191\n",
      "Epoch 21/30\n",
      "25767/25767 [==============================] - 9s 364us/step - loss: 0.1882 - accuracy: 0.9141 - val_loss: 0.1804 - val_accuracy: 0.9200\n",
      "Epoch 22/30\n",
      "25767/25767 [==============================] - 9s 365us/step - loss: 0.1849 - accuracy: 0.9164 - val_loss: 0.1848 - val_accuracy: 0.9175\n",
      "Epoch 23/30\n",
      "25767/25767 [==============================] - 9s 363us/step - loss: 0.1849 - accuracy: 0.9171 - val_loss: 0.1786 - val_accuracy: 0.9180\n",
      "Epoch 24/30\n",
      "25767/25767 [==============================] - 9s 365us/step - loss: 0.1841 - accuracy: 0.9172 - val_loss: 0.1797 - val_accuracy: 0.9170\n",
      "Epoch 25/30\n",
      "25767/25767 [==============================] - 9s 364us/step - loss: 0.1837 - accuracy: 0.9159 - val_loss: 0.1866 - val_accuracy: 0.9156\n",
      "Epoch 26/30\n",
      "25767/25767 [==============================] - 10s 379us/step - loss: 0.1823 - accuracy: 0.9172 - val_loss: 0.1776 - val_accuracy: 0.9178\n",
      "Epoch 27/30\n",
      "25767/25767 [==============================] - 9s 363us/step - loss: 0.1816 - accuracy: 0.9185 - val_loss: 0.1892 - val_accuracy: 0.9123\n",
      "Epoch 28/30\n",
      "25767/25767 [==============================] - 9s 362us/step - loss: 0.1799 - accuracy: 0.9190 - val_loss: 0.1772 - val_accuracy: 0.9208\n",
      "Epoch 29/30\n",
      "25767/25767 [==============================] - 9s 360us/step - loss: 0.1795 - accuracy: 0.9174 - val_loss: 0.1746 - val_accuracy: 0.9203\n",
      "Epoch 30/30\n",
      "25767/25767 [==============================] - 9s 363us/step - loss: 0.1796 - accuracy: 0.9196 - val_loss: 0.1817 - val_accuracy: 0.9181\n"
     ]
    }
   ],
   "source": [
    "history = classifier.fit(X,y_train, batch_size=16, epochs=30, validation_data=(X_t,y_test) , callbacks=[tensorboard]).history"
   ]
  },
  {
   "cell_type": "code",
   "execution_count": 44,
   "metadata": {},
   "outputs": [
    {
     "name": "stdout",
     "output_type": "stream",
     "text": [
      "           OPERATION           DATA DIMENSIONS   WEIGHTS(N)   WEIGHTS(%)\n",
      "\n",
      "               Input   #####           9\n",
      "               Dense   XXXXX -------------------       180    10.5%\n",
      "                relu   #####          18\n",
      "               Dense   XXXXX -------------------       684    40.0%\n",
      "                relu   #####          36\n",
      "             Dropout    | || -------------------         0     0.0%\n",
      "                       #####          36\n",
      "               Dense   XXXXX -------------------       666    38.9%\n",
      "                relu   #####          18\n",
      "             Dropout    | || -------------------         0     0.0%\n",
      "                       #####          18\n",
      "               Dense   XXXXX -------------------       171    10.0%\n",
      "                relu   #####           9\n",
      "               Dense   XXXXX -------------------        10     0.6%\n",
      "             sigmoid   #####           1\n"
     ]
    }
   ],
   "source": [
    "#pip install keras_sequential_ascii\n",
    "from keras_sequential_ascii import keras2ascii\n",
    "keras2ascii(classifier)"
   ]
  },
  {
   "cell_type": "code",
   "execution_count": 45,
   "metadata": {},
   "outputs": [
    {
     "name": "stdout",
     "output_type": "stream",
     "text": [
      "25767/25767 [==============================] - 0s 13us/step\n",
      "[0.17402590271901813, 0.9223037362098694]\n",
      "231906/231906 [==============================] - 3s 13us/step\n",
      "[0.18170148080055817, 0.9181177020072937]\n",
      "\n",
      "0.39401580129872066\n"
     ]
    }
   ],
   "source": [
    "eval_model=classifier.evaluate(X, y_train )\n",
    "print(eval_model)\n",
    "\n",
    "eval_model=classifier.evaluate(X_t, y_test)\n",
    "print(eval_model)\n",
    "\n",
    "\n",
    "predictions=classifier.predict(X_t)\n",
    "predictions =(predictions>0.80)\n",
    "mse = np.mean(np.power(X_test_svd - predictions, 2), axis=1)\n",
    "error_df = pd.DataFrame({'reconstruction_error': mse,'true_class': y_test.values.reshape(1,-1)[0]})\n",
    "# error_df.describe()\n",
    "print()\n",
    "print(np.mean(mse))\n",
    "#cm = confusion_matrix(y_test, y_pred)\n",
    "\n",
    "#print(cm)"
   ]
  },
  {
   "cell_type": "code",
   "execution_count": 46,
   "metadata": {},
   "outputs": [
    {
     "data": {
      "image/png": "[encoded data removed]",
      "text/plain": [
       "<Figure size 432x288 with 1 Axes>"
      ]
     },
     "metadata": {
      "needs_background": "light"
     },
     "output_type": "display_data"
    }
   ],
   "source": [
    "plt.plot(history['loss'])\n",
    "plt.plot(history['val_loss'])\n",
    "plt.title('model loss')\n",
    "plt.ylabel('loss')\n",
    "plt.xlabel('epoch')\n",
    "plt.legend(['train', 'test'], loc='upper right');"
   ]
  },
  {
   "cell_type": "code",
   "execution_count": 47,
   "metadata": {},
   "outputs": [
    {
     "data": {
      "image/png": "[encoded data removed]",
      "text/plain": [
       "<Figure size 432x288 with 1 Axes>"
      ]
     },
     "metadata": {
      "needs_background": "light"
     },
     "output_type": "display_data"
    }
   ],
   "source": [
    "fpr, tpr, thresholds = roc_curve(error_df.true_class, error_df.reconstruction_error,pos_label=1)\n",
    "roc_auc = auc(fpr, tpr)\n",
    "\n",
    "\n",
    "plt.title('Receiver Operating Characteristic')\n",
    "plt.plot(fpr, tpr, label='AUC = %0.4f'% roc_auc)\n",
    "plt.legend(loc='lower right')\n",
    "plt.plot([0,1],[0,1],'r--')\n",
    "plt.xlim([-0.001, 1])\n",
    "plt.ylim([0, 1.001])\n",
    "plt.ylabel('True Positive Rate')\n",
    "plt.xlabel('False Positive Rate')\n",
    "plt.show();"
   ]
  },
  {
   "cell_type": "code",
   "execution_count": 48,
   "metadata": {},
   "outputs": [
    {
     "data": {
      "text/plain": [
       "[<matplotlib.lines.Line2D at 0x23579d5d438>]"
      ]
     },
     "execution_count": 48,
     "metadata": {},
     "output_type": "execute_result"
    },
    {
     "data": {
      "text/plain": [
       "Text(0.5, 1.0, 'Recall vs Precision')"
      ]
     },
     "execution_count": 48,
     "metadata": {},
     "output_type": "execute_result"
    },
    {
     "data": {
      "text/plain": [
       "Text(0.5, 0, 'Recall')"
      ]
     },
     "execution_count": 48,
     "metadata": {},
     "output_type": "execute_result"
    },
    {
     "data": {
      "text/plain": [
       "Text(0, 0.5, 'Precision')"
      ]
     },
     "execution_count": 48,
     "metadata": {},
     "output_type": "execute_result"
    },
    {
     "data": {
      "image/png": "[encoded data removed]",
      "text/plain": [
       "<Figure size 432x288 with 1 Axes>"
      ]
     },
     "metadata": {
      "needs_background": "light"
     },
     "output_type": "display_data"
    }
   ],
   "source": [
    "precision, recall, th = precision_recall_curve(error_df.true_class, error_df.reconstruction_error,pos_label=1)\n",
    "plt.plot(recall, precision, 'b', label='Precision-Recall curve')\n",
    "plt.title('Recall vs Precision')\n",
    "plt.xlabel('Recall')\n",
    "plt.ylabel('Precision')\n",
    "plt.show()"
   ]
  },
  {
   "cell_type": "code",
   "execution_count": null,
   "metadata": {},
   "outputs": [],
   "source": []
  },
  {
   "cell_type": "code",
   "execution_count": null,
   "metadata": {},
   "outputs": [],
   "source": []
  }
 ],
 "metadata": {
  "kernelspec": {
   "display_name": "Python 3",
   "language": "python",
   "name": "python3"
  },
  "language_info": {
   "codemirror_mode": {
    "name": "ipython",
    "version": 3
   },
   "file_extension": ".py",
   "mimetype": "text/x-python",
   "name": "python",
   "nbconvert_exporter": "python",
   "pygments_lexer": "ipython3",
   "version": "3.7.4"
  }
 },
 "nbformat": 4,
 "nbformat_minor": 4
}
